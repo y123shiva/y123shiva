{
  "nbformat": 4,
  "nbformat_minor": 0,
  "metadata": {
    "colab": {
      "name": "using kmeans.ipynb",
      "provenance": []
    },
    "kernelspec": {
      "name": "python3",
      "display_name": "Python 3"
    },
    "language_info": {
      "name": "python"
    }
  },
  "cells": [
    {
      "cell_type": "code",
      "metadata": {
        "id": "S5lt7CXDZuhp"
      },
      "source": [
        "#Importing Libraries We Want to Use\n",
        "from sklearn.preprocessing import StandardScaler\n",
        "from sklearn.cluster import KMeans\n",
        "import pandas as pd\n",
        "import numpy as np\n",
        "import matplotlib.pyplot as plt"
      ],
      "execution_count": 1,
      "outputs": []
    },
    {
      "cell_type": "code",
      "metadata": {
        "id": "qA6-3_GGaBp-"
      },
      "source": [
        "#Importing Dataset\n",
        "df = pd.read_csv('/content/marketing_campaign.csv')"
      ],
      "execution_count": 2,
      "outputs": []
    },
    {
      "cell_type": "code",
      "metadata": {
        "colab": {
          "base_uri": "https://localhost:8080/"
        },
        "id": "SbW9nwi4azJI",
        "outputId": "81ec92e2-b0c5-4d91-a9a6-2f8a150b8186"
      },
      "source": [
        "#Data Cleaning\n",
        "df.info()"
      ],
      "execution_count": 3,
      "outputs": [
        {
          "output_type": "stream",
          "name": "stdout",
          "text": [
            "<class 'pandas.core.frame.DataFrame'>\n",
            "RangeIndex: 2240 entries, 0 to 2239\n",
            "Data columns (total 29 columns):\n",
            " #   Column               Non-Null Count  Dtype  \n",
            "---  ------               --------------  -----  \n",
            " 0   ID                   2240 non-null   int64  \n",
            " 1   Year_Birth           2240 non-null   int64  \n",
            " 2   Education            2240 non-null   object \n",
            " 3   Marital_Status       2240 non-null   object \n",
            " 4   Income               2216 non-null   float64\n",
            " 5   Kidhome              2240 non-null   int64  \n",
            " 6   Teenhome             2240 non-null   int64  \n",
            " 7   Dt_Customer          2240 non-null   object \n",
            " 8   Recency              2240 non-null   int64  \n",
            " 9   MntWines             2240 non-null   int64  \n",
            " 10  MntFruits            2240 non-null   int64  \n",
            " 11  MntMeatProducts      2240 non-null   int64  \n",
            " 12  MntFishProducts      2240 non-null   int64  \n",
            " 13  MntSweetProducts     2240 non-null   int64  \n",
            " 14  MntGoldProds         2240 non-null   int64  \n",
            " 15  NumDealsPurchases    2240 non-null   int64  \n",
            " 16  NumWebPurchases      2240 non-null   int64  \n",
            " 17  NumCatalogPurchases  2240 non-null   int64  \n",
            " 18  NumStorePurchases    2240 non-null   int64  \n",
            " 19  NumWebVisitsMonth    2240 non-null   int64  \n",
            " 20  AcceptedCmp3         2240 non-null   int64  \n",
            " 21  AcceptedCmp4         2240 non-null   int64  \n",
            " 22  AcceptedCmp5         2240 non-null   int64  \n",
            " 23  AcceptedCmp1         2240 non-null   int64  \n",
            " 24  AcceptedCmp2         2240 non-null   int64  \n",
            " 25  Complain             2240 non-null   int64  \n",
            " 26  Z_CostContact        2240 non-null   int64  \n",
            " 27  Z_Revenue            2240 non-null   int64  \n",
            " 28  Response             2240 non-null   int64  \n",
            "dtypes: float64(1), int64(25), object(3)\n",
            "memory usage: 507.6+ KB\n"
          ]
        }
      ]
    },
    {
      "cell_type": "code",
      "metadata": {
        "colab": {
          "base_uri": "https://localhost:8080/"
        },
        "id": "-YdGFXrkazdN",
        "outputId": "985cd4f7-3e18-4728-94fe-034a7f3437e3"
      },
      "source": [
        "#Checking NuLL Values And Dropping Them Off\n",
        "df=df.dropna()\n",
        "df.info()"
      ],
      "execution_count": 4,
      "outputs": [
        {
          "output_type": "stream",
          "name": "stdout",
          "text": [
            "<class 'pandas.core.frame.DataFrame'>\n",
            "Int64Index: 2216 entries, 0 to 2239\n",
            "Data columns (total 29 columns):\n",
            " #   Column               Non-Null Count  Dtype  \n",
            "---  ------               --------------  -----  \n",
            " 0   ID                   2216 non-null   int64  \n",
            " 1   Year_Birth           2216 non-null   int64  \n",
            " 2   Education            2216 non-null   object \n",
            " 3   Marital_Status       2216 non-null   object \n",
            " 4   Income               2216 non-null   float64\n",
            " 5   Kidhome              2216 non-null   int64  \n",
            " 6   Teenhome             2216 non-null   int64  \n",
            " 7   Dt_Customer          2216 non-null   object \n",
            " 8   Recency              2216 non-null   int64  \n",
            " 9   MntWines             2216 non-null   int64  \n",
            " 10  MntFruits            2216 non-null   int64  \n",
            " 11  MntMeatProducts      2216 non-null   int64  \n",
            " 12  MntFishProducts      2216 non-null   int64  \n",
            " 13  MntSweetProducts     2216 non-null   int64  \n",
            " 14  MntGoldProds         2216 non-null   int64  \n",
            " 15  NumDealsPurchases    2216 non-null   int64  \n",
            " 16  NumWebPurchases      2216 non-null   int64  \n",
            " 17  NumCatalogPurchases  2216 non-null   int64  \n",
            " 18  NumStorePurchases    2216 non-null   int64  \n",
            " 19  NumWebVisitsMonth    2216 non-null   int64  \n",
            " 20  AcceptedCmp3         2216 non-null   int64  \n",
            " 21  AcceptedCmp4         2216 non-null   int64  \n",
            " 22  AcceptedCmp5         2216 non-null   int64  \n",
            " 23  AcceptedCmp1         2216 non-null   int64  \n",
            " 24  AcceptedCmp2         2216 non-null   int64  \n",
            " 25  Complain             2216 non-null   int64  \n",
            " 26  Z_CostContact        2216 non-null   int64  \n",
            " 27  Z_Revenue            2216 non-null   int64  \n",
            " 28  Response             2216 non-null   int64  \n",
            "dtypes: float64(1), int64(25), object(3)\n",
            "memory usage: 519.4+ KB\n"
          ]
        }
      ]
    },
    {
      "cell_type": "code",
      "metadata": {
        "id": "lvDVGlFqazfh"
      },
      "source": [
        "#But there is some values with incompatible datatype such as:\n",
        "#Education, which is categorized data, its datatype is object.\n",
        "#Dt_Customer must be a DateTime field.\n",
        "#Renaming Columns to Intuitive Names\n",
        "df = df.rename(columns={\n",
        "'MntWines': 'Amount_Wines', \n",
        "'MntFruits': 'Amount_Fruits',\n",
        "'MntMeatProducts': 'Amount_Meat',\n",
        "'MntFishProducts': 'Amount_Fish', \n",
        "'MntSweetProducts': 'Amount_Sweet', \n",
        "'MntGoldProds': 'Amount_Gold'\n",
        "})\n"
      ],
      "execution_count": 5,
      "outputs": []
    },
    {
      "cell_type": "code",
      "metadata": {
        "id": "766399Gzazi3"
      },
      "source": [
        "#Parsing Date of Customer’s Enrollment with the Company (Dt_Customer)\n",
        "df['Dt_Customer'] = pd.to_datetime(df['Dt_Customer'])"
      ],
      "execution_count": 6,
      "outputs": []
    },
    {
      "cell_type": "code",
      "metadata": {
        "colab": {
          "base_uri": "https://localhost:8080/"
        },
        "id": "v_k9bsmQcVsb",
        "outputId": "a706af86-e2ab-4dac-972a-d7b9a32ab6eb"
      },
      "source": [
        "#Converting Data Into More Simple CategoriesFor example if we view the Education field values we will view different categories of people that could easily set into 3 main categories:\n",
        "#Basic and 2n Cycle considered as (Undergraduate) category.Graduation considered as (Graduate) category.Master and PhD considered as (Postgraduate) category.\n",
        "df['Education'].value_counts()"
      ],
      "execution_count": 7,
      "outputs": [
        {
          "output_type": "execute_result",
          "data": {
            "text/plain": [
              "Graduation    1116\n",
              "PhD            481\n",
              "Master         365\n",
              "2n Cycle       200\n",
              "Basic           54\n",
              "Name: Education, dtype: int64"
            ]
          },
          "metadata": {},
          "execution_count": 7
        }
      ]
    },
    {
      "cell_type": "code",
      "metadata": {
        "colab": {
          "base_uri": "https://localhost:8080/"
        },
        "id": "mhhbAA6jcVv1",
        "outputId": "c179bbc3-3989-457d-da90-abdd2c6341c1"
      },
      "source": [
        "df[\"Education\"]=df[\"Education\"].map({\n",
        "\"Basic\" : \"Undergraduate\",\n",
        "\"2n Cycle\" : \"Undergraduate\",\n",
        "\"Graduation\" : \"Graduate\",\n",
        "\"Master\" : \"Postgraduate\",\n",
        "\"PhD\" : \"Postgraduate\"\n",
        "})\n",
        "df['Education'].value_counts()\n"
      ],
      "execution_count": 9,
      "outputs": [
        {
          "output_type": "execute_result",
          "data": {
            "text/plain": [
              "Graduate         1116\n",
              "Postgraduate      846\n",
              "Undergraduate     254\n",
              "Name: Education, dtype: int64"
            ]
          },
          "metadata": {},
          "execution_count": 9
        }
      ]
    },
    {
      "cell_type": "code",
      "metadata": {
        "id": "DqSVGvt3cVzg"
      },
      "source": [
        "#Identifying the Number of Enrolled Days for Each Customer\n",
        "df['Enrolled_Time'] = '01-01-2015' #assuming we are starting counting from the new year\n",
        "df['Enrolled_Time'] = pd.to_datetime(df.Enrolled_Time)\n",
        "df['Enrolled_Days_Amount'] = (df['Enrolled_Time'] - df['Dt_Customer']).dt.days"
      ],
      "execution_count": 10,
      "outputs": []
    },
    {
      "cell_type": "code",
      "metadata": {
        "colab": {
          "base_uri": "https://localhost:8080/",
          "height": 358
        },
        "id": "Ubvfrb9sdLlO",
        "outputId": "007e4dc1-fa3c-4c1e-994d-58039d1b67c9"
      },
      "source": [
        "plt.figure(figsize=(20, 7)) #width:20, height:7\n",
        "plt.bar(df['Year_Birth'], df['Enrolled_Days_Amount'], color ='purple',\n",
        "        width = 0.8)\n",
        "plt.xlabel(\"Year of Birth\")\n",
        "plt.ylabel(\"Number of Enrolled Days\")\n",
        "plt.show()\n"
      ],
      "execution_count": 11,
      "outputs": [
        {
          "output_type": "display_data",
          "data": {
            "image/png": "[encoded data removed]",
            "text/plain": [
              "<Figure size 1440x504 with 1 Axes>"
            ]
          },
          "metadata": {
            "needs_background": "light"
          }
        }
      ]
    },
    {
      "cell_type": "code",
      "metadata": {
        "id": "LdETUl-1dLo3"
      },
      "source": [
        "#Standardize Data\n",
        "for i in df.select_dtypes(exclude='object').columns:\n",
        "    df.loc[:, i] = StandardScaler().fit_transform(np.array(df[[i]]))"
      ],
      "execution_count": 12,
      "outputs": []
    },
    {
      "cell_type": "code",
      "metadata": {
        "colab": {
          "base_uri": "https://localhost:8080/",
          "height": 295
        },
        "id": "8nj6ew72dLrl",
        "outputId": "0051b480-5217-469f-c464-96aba9ff5790"
      },
      "source": [
        "#Data Modeling Into Clusters\n",
        "#Choosing Number of Clusters\n",
        "#taking into consideration the (income) and (amount of wine)\n",
        "X=df.iloc[:, np.array([4, 9])].values\n",
        "wcss=[]\n",
        "for i in range(1,11): \n",
        "     kmeans = KMeans(n_clusters=i, init ='k-means++', max_iter=300,  n_init=10,random_state=0 )  \n",
        "     kmeans.fit(X)\n",
        "     wcss.append(kmeans.inertia_)\n",
        "plt.plot(range(1,11),wcss)\n",
        "plt.title('The Elbow Method Graph')\n",
        "plt.xlabel('Number of clusters')\n",
        "plt.ylabel('WCSS')\n",
        "plt.show()"
      ],
      "execution_count": 13,
      "outputs": [
        {
          "output_type": "display_data",
          "data": {
            "image/png": "[encoded data removed]",
            "text/plain": [
              "<Figure size 432x288 with 1 Axes>"
            ]
          },
          "metadata": {
            "needs_background": "light"
          }
        }
      ]
    },
    {
      "cell_type": "code",
      "metadata": {
        "colab": {
          "base_uri": "https://localhost:8080/",
          "height": 295
        },
        "id": "m3yB_E0bdy_b",
        "outputId": "23dc7d54-4ea2-4a62-9672-37e49fa6b30c"
      },
      "source": [
        "#we will take 5 clusters\n",
        "\n",
        "kmeans = KMeans(n_clusters=5, init ='k-means++', max_iter=300, n_init=10, random_state=0 )\n",
        "y_kmeans = kmeans.fit_predict(X)\n",
        "plt.scatter(X[y_kmeans==0, 0], X[y_kmeans==0, 1], s=2, c='red', label ='Cluster 1')\n",
        "plt.scatter(X[y_kmeans==1, 0], X[y_kmeans==1, 1], s=2, c='blue', label ='Cluster 2')\n",
        "plt.scatter(X[y_kmeans==2, 0], X[y_kmeans==2, 1], s=2, c='green', label ='Cluster 3')\n",
        "plt.scatter(X[y_kmeans==3, 0], X[y_kmeans==3, 1], s=2, c='cyan', label ='Cluster 4')\n",
        "plt.scatter(X[y_kmeans==4, 0], X[y_kmeans==4, 1], s=2, c='magenta', label ='Cluster 5')\n",
        "plt.scatter(kmeans.cluster_centers_[:, 0], kmeans.cluster_centers_[:, 1], s=100, c='yellow', label = 'Centroids')\n",
        "plt.title('Clusters of Customers')\n",
        "plt.xlabel('Income')\n",
        "plt.ylabel('Amount of Wine')\n",
        "plt.show()"
      ],
      "execution_count": 17,
      "outputs": [
        {
          "output_type": "display_data",
          "data": {
            "image/png": "[encoded data removed]",
            "text/plain": [
              "<Figure size 432x288 with 1 Axes>"
            ]
          },
          "metadata": {
            "needs_background": "light"
          }
        }
      ]
    },
    {
      "cell_type": "markdown",
      "metadata": {
        "id": "irQuJvgSefqt"
      },
      "source": [
        "Yellow dots are the centroids of each cluster\n",
        "Finally, we can draw a conclusion out of a use case that as the income of customers increases, the spending on wine increases, except some people which are considered here as outliers (for example the person who has an income of 666666) which is considered the higher income among all users and is taking care of his spendings."
      ]
    }
  ]
}